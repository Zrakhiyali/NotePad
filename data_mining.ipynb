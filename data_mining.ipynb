{
  "nbformat": 4,
  "nbformat_minor": 0,
  "metadata": {
    "colab": {
      "provenance": [],
      "authorship_tag": "ABX9TyODQKsFQdFde+6wVETJm7rO",
      "include_colab_link": true
    },
    "kernelspec": {
      "name": "python3",
      "display_name": "Python 3"
    },
    "language_info": {
      "name": "python"
    }
  },
  "cells": [
    {
      "cell_type": "markdown",
      "metadata": {
        "id": "view-in-github",
        "colab_type": "text"
      },
      "source": [
        "<a href=\"https://colab.research.google.com/github/Zrakhiyali/NotePad/blob/master/data_mining.ipynb\" target=\"_parent\"><img src=\"https://colab.research.google.com/assets/colab-badge.svg\" alt=\"Open In Colab\"/></a>"
      ]
    },
    {
      "cell_type": "code",
      "execution_count": null,
      "metadata": {
        "colab": {
          "base_uri": "https://localhost:8080/"
        },
        "id": "uyoi_xSwR-JF",
        "outputId": "2220a1db-428d-4e84-eeff-d538b6dbc9f6"
      },
      "outputs": [
        {
          "output_type": "stream",
          "name": "stdout",
          "text": [
            "Number of Doctors Visited                        2.112045\n",
            "Age                                              2.000000\n",
            "Phyiscal Health                                  2.794118\n",
            "Mental Health                                    1.988796\n",
            "Dental Health                                    3.009804\n",
            "Employment                                       2.806723\n",
            "Stress Keeps Patient from Sleeping               0.247899\n",
            "Medication Keeps Patient from Sleeping           0.056022\n",
            "Pain Keeps Patient from Sleeping                 0.218487\n",
            "Bathroom Needs Keeps Patient from Sleeping       0.504202\n",
            "Uknown Keeps Patient from Sleeping               0.417367\n",
            "Trouble Sleeping                                 2.407563\n",
            "Prescription Sleep Medication                    2.829132\n",
            "Race                                             1.425770\n",
            "Gender                                           1.550420\n",
            "Income                                        3512.745098\n",
            "dtype: float64\n",
            "   Number of Doctors Visited  Age  Phyiscal Health  Mental Health  \\\n",
            "0                          2    2                3              2   \n",
            "\n",
            "   Dental Health  Employment  Stress Keeps Patient from Sleeping  \\\n",
            "0              2           3                                   0   \n",
            "\n",
            "   Medication Keeps Patient from Sleeping  Pain Keeps Patient from Sleeping  \\\n",
            "0                                       0                                 0   \n",
            "\n",
            "   Bathroom Needs Keeps Patient from Sleeping  \\\n",
            "0                                           1   \n",
            "\n",
            "   Uknown Keeps Patient from Sleeping  Trouble Sleeping  \\\n",
            "0                                   0                 3   \n",
            "\n",
            "   Prescription Sleep Medication  Race  Gender  Income  \n",
            "0                              3     1       2    3700  \n",
            "Number of Doctors Visited                        2.0\n",
            "Age                                              2.0\n",
            "Phyiscal Health                                  3.0\n",
            "Mental Health                                    2.0\n",
            "Dental Health                                    3.0\n",
            "Employment                                       3.0\n",
            "Stress Keeps Patient from Sleeping               0.0\n",
            "Medication Keeps Patient from Sleeping           0.0\n",
            "Pain Keeps Patient from Sleeping                 0.0\n",
            "Bathroom Needs Keeps Patient from Sleeping       1.0\n",
            "Uknown Keeps Patient from Sleeping               0.0\n",
            "Trouble Sleeping                                 3.0\n",
            "Prescription Sleep Medication                    3.0\n",
            "Race                                             1.0\n",
            "Gender                                           2.0\n",
            "Income                                        3600.0\n",
            "dtype: float64\n"
          ]
        }
      ],
      "source": [
        "import pandas as pd\n",
        "df1 = pd.read_csv('NPHA-doctor-visits.csv')\n",
        "\n",
        "print(df1.mean())\n",
        "print(df1.mode())\n",
        "print(df1.median())"
      ]
    }
  ]
}